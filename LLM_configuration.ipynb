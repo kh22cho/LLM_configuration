{
 "cells": [
  {
   "cell_type": "code",
   "execution_count": null,
   "metadata": {},
   "outputs": [],
   "source": [
    "# 책 참고 : Build a Large Language Model (From Scratch)\n",
    "# https://wikidocs.net/book/15693 \n",
    "# https://github.com/rasbt/LLMs-from-scratch \n",
    "# https://github.com/HongLabInc/HongLabLLM/blob/main/pretraining.ipynb "
   ]
  },
  {
   "cell_type": "code",
   "execution_count": null,
   "metadata": {},
   "outputs": [],
   "source": []
  }
 ],
 "metadata": {
  "kernelspec": {
   "display_name": "base",
   "language": "python",
   "name": "python3"
  },
  "language_info": {
   "name": "python",
   "version": "3.12.8"
  }
 },
 "nbformat": 4,
 "nbformat_minor": 2
}
